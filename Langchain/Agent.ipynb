{
 "cells": [
  {
   "cell_type": "markdown",
   "id": "f066eaff-6c41-4c64-bd13-5544b345099c",
   "metadata": {},
   "source": [
    "# Agent\n",
    "\n",
    "Agentes são sistemas que usam LLMs como mecanismos de raciocínio para determinar quais ações realizar e as entradas necessárias para executar a ação. Após executar ações, os resultados podem ser realimentados no LLM para determinar se mais ações são necessárias ou se está tudo bem para terminar. Isso geralmente é obtido por meio de **tool-calling**.\n",
    "\n",
    "Neste tutorial, construiremos um agente que pode interagir com um mecanismo de busca. Você poderá fazer perguntas a esse agente"
   ]
  },
  {
   "cell_type": "code",
   "execution_count": 18,
   "id": "19c488fc-b2c6-41b5-916c-a7e5dae45170",
   "metadata": {},
   "outputs": [],
   "source": [
    "import os\n",
    "from langchain.chat_models import AzureChatOpenAI\n",
    "from langchain_community.tools.tavily_search import TavilySearchResults\n",
    "from langchain_core.messages import HumanMessage\n",
    "from langgraph.checkpoint.memory import MemorySaver\n",
    "from langgraph.prebuilt import create_react_agent"
   ]
  },
  {
   "cell_type": "code",
   "execution_count": 32,
   "id": "4f8efb4b-1dac-4c46-b2c2-90eac67cf67f",
   "metadata": {},
   "outputs": [],
   "source": [
    "# Configurações do Azure OpenAI\n",
    "apikey = 'key'\n",
    "endpoint = 'endpoint'\n",
    "deployname = 'gpt-4-2-teste'\n",
    "apiversion = '2024-08-01-preview'"
   ]
  },
  {
   "cell_type": "markdown",
   "id": "bba25505-7f40-4d66-80d9-52a33fcd61e0",
   "metadata": {},
   "source": [
    "# Tavily\n",
    "\n",
    "O Tavily é um serviço de busca na web projetado para fornecer resultados rápidos e estruturados para agentes de IA e aplicações que precisam de informações atualizadas da internet. Ele é especialmente útil para integrar em LLMs (Large Language Models), permitindo que modelos como OpenAI GPT e Claude acessem conteúdos recentes e relevantes diretamente da web.\n",
    "\n",
    "Tem que criar o key: https://tavily.com/"
   ]
  },
  {
   "cell_type": "code",
   "execution_count": 33,
   "id": "9441296f-0c62-4f33-b52b-e08110cdb3a6",
   "metadata": {},
   "outputs": [],
   "source": [
    "key_tavily = 'key'\n",
    "os.environ[\"TAVILY_API_KEY\"] = key_tavily"
   ]
  },
  {
   "cell_type": "code",
   "execution_count": 34,
   "id": "cfc7e7e9-9e4d-4556-9ad2-0498e0563a65",
   "metadata": {},
   "outputs": [
    {
     "name": "stdout",
     "output_type": "stream",
     "text": [
      "[{'url': 'https://www.weatherapi.com/', 'content': \"{'location': {'name': 'San Francisco', 'region': 'California', 'country': 'United States of America', 'lat': 37.775, 'lon': -122.4183, 'tz_id': 'America/Los_Angeles', 'localtime_epoch': 1739036787, 'localtime': '2025-02-08 09:46'}, 'current': {'last_updated_epoch': 1739036700, 'last_updated': '2025-02-08 09:45', 'temp_c': 8.3, 'temp_f': 46.9, 'is_day': 1, 'condition': {'text': 'Partly cloudy', 'icon': '//cdn.weatherapi.com/weather/64x64/day/116.png', 'code': 1003}, 'wind_mph': 6.5, 'wind_kph': 10.4, 'wind_degree': 351, 'wind_dir': 'N', 'pressure_mb': 1029.0, 'pressure_in': 30.38, 'precip_mm': 0.0, 'precip_in': 0.0, 'humidity': 76, 'cloud': 25, 'feelslike_c': 6.5, 'feelslike_f': 43.7, 'windchill_c': 6.4, 'windchill_f': 43.5, 'heatindex_c': 6.5, 'heatindex_f': 43.7, 'dewpoint_c': 5.8, 'dewpoint_f': 42.4, 'vis_km': 16.0, 'vis_miles': 9.0, 'uv': 0.9, 'gust_mph': 9.7, 'gust_kph': 15.6}}\"}, {'url': 'https://weathershogun.com/weather/usa/ca/san-francisco/480/february/2025-02-08', 'content': 'San Francisco, California Weather: Saturday, February 8, 2025. Cloudy weather, overcast skies with clouds. Day 57°. Night 48°.'}]\n"
     ]
    }
   ],
   "source": [
    "from langchain_community.tools.tavily_search import TavilySearchResults\n",
    "\n",
    "search = TavilySearchResults(max_results=2)\n",
    "search_results = search.invoke(\"what is the weather in SF\")\n",
    "print(search_results)\n",
    "# If we want, we can create other tools.\n",
    "# Once we have all the tools we want, we can put them in a list that we will reference later.\n",
    "tools = [search]"
   ]
  },
  {
   "cell_type": "markdown",
   "id": "b4ad4b75-8f3a-49e8-882b-92c16543ba72",
   "metadata": {},
   "source": [
    "---------------------------------------------------------------------------------------------------------------------------"
   ]
  }
 ],
 "metadata": {
  "kernelspec": {
   "display_name": "Python 3 (ipykernel)",
   "language": "python",
   "name": "python3"
  },
  "language_info": {
   "codemirror_mode": {
    "name": "ipython",
    "version": 3
   },
   "file_extension": ".py",
   "mimetype": "text/x-python",
   "name": "python",
   "nbconvert_exporter": "python",
   "pygments_lexer": "ipython3",
   "version": "3.12.1"
  }
 },
 "nbformat": 4,
 "nbformat_minor": 5
}
