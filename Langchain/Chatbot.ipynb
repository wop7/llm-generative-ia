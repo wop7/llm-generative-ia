{
 "cells": [
  {
   "cell_type": "code",
   "execution_count": null,
   "id": "b0a277df-ced6-4729-bf6b-eac338371b3d",
   "metadata": {},
   "outputs": [],
   "source": [
    "import os\n",
    "from openai import AzureOpenAI"
   ]
  },
  {
   "cell_type": "code",
   "execution_count": null,
   "id": "8cd57408-08d1-47c9-a3ea-8757a3f4dd95",
   "metadata": {},
   "outputs": [],
   "source": [
    "#Credentials\n",
    "apikey = 'key'\n",
    "endpoint = 'endpoint'\n",
    "deployname = 'gpt-4-2-teste'\n",
    "apiversion =  '2024-08-01-preview'"
   ]
  }
 ],
 "metadata": {
  "kernelspec": {
   "display_name": "Python 3 (ipykernel)",
   "language": "python",
   "name": "python3"
  },
  "language_info": {
   "codemirror_mode": {
    "name": "ipython",
    "version": 3
   },
   "file_extension": ".py",
   "mimetype": "text/x-python",
   "name": "python",
   "nbconvert_exporter": "python",
   "pygments_lexer": "ipython3",
   "version": "3.12.1"
  }
 },
 "nbformat": 4,
 "nbformat_minor": 5
}
